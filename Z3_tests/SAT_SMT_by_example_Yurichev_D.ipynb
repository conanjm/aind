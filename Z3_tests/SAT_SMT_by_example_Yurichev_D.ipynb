{
 "cells": [
  {
   "cell_type": "code",
   "execution_count": 1,
   "metadata": {},
   "outputs": [],
   "source": [
    "#__builtins__.Z3_LIB_DIRS = ['/root/z3py']\n",
    "from z3 import *"
   ]
  },
  {
   "cell_type": "code",
   "execution_count": 2,
   "metadata": {},
   "outputs": [
    {
     "name": "stdout",
     "output_type": "stream",
     "text": [
      "sat\n",
      "[y = 3/2, x = 4]\n"
     ]
    }
   ],
   "source": [
    "x = Real('x')\n",
    "y = Real('y')\n",
    "s = Solver()\n",
    "s.add(x + y > 5, x > 1, y > 1)\n",
    "print(s.check())\n",
    "print(s.model())\n"
   ]
  },
  {
   "cell_type": "code",
   "execution_count": 3,
   "metadata": {},
   "outputs": [
    {
     "name": "stdout",
     "output_type": "stream",
     "text": [
      "sat\n",
      "[z = -2, y = -2, x = 1]\n"
     ]
    }
   ],
   "source": [
    "x = Real('x')\n",
    "y = Real('y')\n",
    "z = Real('z')\n",
    "s = Solver()\n",
    "s.add(3*x + 2*y - z == 1)\n",
    "s.add(2*x - 2*y + 4*z == -2)\n",
    "s.add(-x + 0.5*y - z == 0)\n",
    "print(s.check())\n",
    "print(s.model())"
   ]
  },
  {
   "cell_type": "code",
   "execution_count": 7,
   "metadata": {},
   "outputs": [
    {
     "name": "stdout",
     "output_type": "stream",
     "text": [
      "sat\n",
      "[triangle = 1, square = 2, circle = 5]\n"
     ]
    }
   ],
   "source": [
    "circle = Int('circle')\n",
    "square = Int('square')\n",
    "triangle = Int('triangle')\n",
    "s = Solver()\n",
    "s.add(circle+circle==10)\n",
    "s.add(circle*square+square==12)\n",
    "s.add(circle*square -triangle*circle==circle)\n",
    "print(s.check())\n",
    "print(s.model())"
   ]
  },
  {
   "cell_type": "code",
   "execution_count": 8,
   "metadata": {},
   "outputs": [],
   "source": [
    "x, y = Reals('x y')\n",
    "s=Solver()\n",
    "s.add(x>0)\n",
    "s.add(y>0)\n",
    "s.add(x+y == 4*x*y)"
   ]
  },
  {
   "cell_type": "code",
   "execution_count": 9,
   "metadata": {},
   "outputs": [
    {
     "name": "stdout",
     "output_type": "stream",
     "text": [
      "sat\n",
      "the model:\n",
      "[x = 1, y = 1/3]\n",
      "the answer: 4\n"
     ]
    }
   ],
   "source": [
    "print(s.check())\n",
    "m=s.model()\n",
    "print(\"the model:\")\n",
    "print(m)\n",
    "print(\"the answer:\", m.evaluate (1/x + 1/y))"
   ]
  }
 ],
 "metadata": {
  "kernelspec": {
   "display_name": "Python 3",
   "language": "python",
   "name": "python3"
  },
  "language_info": {
   "codemirror_mode": {
    "name": "ipython",
    "version": 3
   },
   "file_extension": ".py",
   "mimetype": "text/x-python",
   "name": "python",
   "nbconvert_exporter": "python",
   "pygments_lexer": "ipython3",
   "version": "3.6.5"
  }
 },
 "nbformat": 4,
 "nbformat_minor": 2
}
